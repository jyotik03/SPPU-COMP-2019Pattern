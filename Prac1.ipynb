{
 "cells": [
  {
   "cell_type": "code",
   "execution_count": null,
   "id": "34fdd36b",
   "metadata": {},
   "outputs": [],
   "source": [
    "import pandas as pd\n",
    "import numpy as np\n",
    "from sklearn import preprocessing "
   ]
  },
  {
   "cell_type": "code",
   "execution_count": null,
   "id": "73220b37",
   "metadata": {},
   "outputs": [],
   "source": [
    "path = \"IRIS.csv\"\n"
   ]
  },
  {
   "cell_type": "code",
   "execution_count": null,
   "id": "c94d8fe1",
   "metadata": {},
   "outputs": [],
   "source": [
    "df = pd.read_csv(path)"
   ]
  },
  {
   "cell_type": "code",
   "execution_count": null,
   "id": "befdce2c",
   "metadata": {},
   "outputs": [],
   "source": [
    "print(df.info())"
   ]
  },
  {
   "cell_type": "code",
   "execution_count": null,
   "id": "8abac0b7",
   "metadata": {},
   "outputs": [],
   "source": [
    "print(df)"
   ]
  },
  {
   "cell_type": "code",
   "execution_count": null,
   "id": "1fd3371c",
   "metadata": {},
   "outputs": [],
   "source": [
    "df.head(n=5)"
   ]
  },
  {
   "cell_type": "code",
   "execution_count": null,
   "id": "7bd71bcd",
   "metadata": {},
   "outputs": [],
   "source": [
    "df.tail(n=5)"
   ]
  },
  {
   "cell_type": "code",
   "execution_count": null,
   "id": "749dd87e",
   "metadata": {},
   "outputs": [],
   "source": [
    "df.index"
   ]
  },
  {
   "cell_type": "code",
   "execution_count": null,
   "id": "6090db86",
   "metadata": {},
   "outputs": [],
   "source": [
    "df.columns"
   ]
  },
  {
   "cell_type": "code",
   "execution_count": null,
   "id": "8780cea3",
   "metadata": {},
   "outputs": [],
   "source": [
    "df.shape"
   ]
  },
  {
   "cell_type": "code",
   "execution_count": null,
   "id": "16f37ebc",
   "metadata": {},
   "outputs": [],
   "source": [
    "df.dtypes"
   ]
  },
  {
   "cell_type": "code",
   "execution_count": null,
   "id": "c6b20ef0",
   "metadata": {},
   "outputs": [],
   "source": [
    "df.columns.values"
   ]
  },
  {
   "cell_type": "code",
   "execution_count": null,
   "id": "e28092df",
   "metadata": {},
   "outputs": [],
   "source": [
    "df.describe(include='all')"
   ]
  },
  {
   "cell_type": "code",
   "execution_count": null,
   "id": "0a79022a",
   "metadata": {},
   "outputs": [],
   "source": [
    "df.sort_index(axis=1,ascending=False)"
   ]
  },
  {
   "cell_type": "code",
   "execution_count": null,
   "id": "8f865a28",
   "metadata": {},
   "outputs": [],
   "source": [
    "df.sort_values(by=\"sepal_length\")"
   ]
  },
  {
   "cell_type": "code",
   "execution_count": null,
   "id": "91f9a097",
   "metadata": {},
   "outputs": [],
   "source": [
    "df.sort_values(by=\"petal_length\")"
   ]
  },
  {
   "cell_type": "code",
   "execution_count": null,
   "id": "c2fc6622",
   "metadata": {},
   "outputs": [],
   "source": [
    "df.iloc[5]"
   ]
  },
  {
   "cell_type": "code",
   "execution_count": null,
   "id": "61b21f0f",
   "metadata": {},
   "outputs": [],
   "source": [
    "df[0:3]"
   ]
  },
  {
   "cell_type": "code",
   "execution_count": null,
   "id": "c2156a68",
   "metadata": {},
   "outputs": [],
   "source": [
    "df.loc[:,[\"sepal_length\",\"sepal_width\"]]"
   ]
  },
  {
   "cell_type": "code",
   "execution_count": null,
   "id": "fcbc675f",
   "metadata": {},
   "outputs": [],
   "source": [
    "df.iloc[:6,:]"
   ]
  },
  {
   "cell_type": "code",
   "execution_count": null,
   "id": "0692d7a5",
   "metadata": {},
   "outputs": [],
   "source": [
    "df.iloc[:,:3]"
   ]
  },
  {
   "cell_type": "code",
   "execution_count": null,
   "id": "5c8ac114",
   "metadata": {},
   "outputs": [],
   "source": [
    "df.iloc[:6,:2]"
   ]
  },
  {
   "cell_type": "code",
   "execution_count": null,
   "id": "569b9ed8",
   "metadata": {},
   "outputs": [],
   "source": [
    "df.iloc[5:3,0:3]"
   ]
  },
  {
   "cell_type": "code",
   "execution_count": null,
   "id": "57976a9e",
   "metadata": {},
   "outputs": [],
   "source": [
    "df.iloc[[1,2,4],[0,2]]"
   ]
  },
  {
   "cell_type": "code",
   "execution_count": null,
   "id": "23cf925b",
   "metadata": {},
   "outputs": [],
   "source": [
    "df.iloc[2,2]"
   ]
  },
  {
   "cell_type": "code",
   "execution_count": null,
   "id": "833c0abb",
   "metadata": {},
   "outputs": [],
   "source": [
    "df.isnull()"
   ]
  },
  {
   "cell_type": "code",
   "execution_count": null,
   "id": "a78adbc6",
   "metadata": {},
   "outputs": [],
   "source": [
    "df.isnull().sum()"
   ]
  },
  {
   "cell_type": "code",
   "execution_count": null,
   "id": "21e02fc1",
   "metadata": {},
   "outputs": [],
   "source": [
    "df['species'].unique()"
   ]
  },
  {
   "cell_type": "code",
   "execution_count": null,
   "id": "5404a57c",
   "metadata": {},
   "outputs": [],
   "source": [
    "min_max_scaler=preprocessing.MinMaxScaler()\n",
    "x=df.iloc[:,:4]\n"
   ]
  },
  {
   "cell_type": "code",
   "execution_count": null,
   "id": "bd691a46",
   "metadata": {},
   "outputs": [],
   "source": [
    "x_scaled=min_max_scaler.fit_transform(x)\n",
    "df_normalized=pd.DataFrame(x_scaled)"
   ]
  },
  {
   "cell_type": "code",
   "execution_count": null,
   "id": "ec0008aa",
   "metadata": {},
   "outputs": [],
   "source": [
    "df_normalized"
   ]
  },
  {
   "cell_type": "code",
   "execution_count": null,
   "id": "c9d85e78",
   "metadata": {},
   "outputs": [],
   "source": [
    "df['species'].unique()"
   ]
  },
  {
   "cell_type": "code",
   "execution_count": null,
   "id": "d757c13d",
   "metadata": {},
   "outputs": [],
   "source": [
    "enc=preprocessing.OneHotEncoder()\n",
    "enc_df=pd.DataFrame(enc.fit_transform(df[['species']]))\n",
    "df_encode=features_df.join(enc_df)\n",
    "df_encode.rename(columns={0:'Iris-setosa',1:'Iris-versicolor',2:'Iris-virginica'},inplace=True)\n",
    "df_encode"
   ]
  },
  {
   "cell_type": "code",
   "execution_count": null,
   "id": "4592c6e2",
   "metadata": {},
   "outputs": [],
   "source": [
    "from sklearn.preprocessing import LabelEncoder\n",
    "LE=LabelEncoder()\n",
    "label=LE.fit_transform(df['species'])\n",
    "df[\"LabelEncoding\"]=label\n",
    "df"
   ]
  },
  {
   "cell_type": "code",
   "execution_count": null,
   "id": "dc17049a",
   "metadata": {},
   "outputs": [],
   "source": [
    "df.head(10)"
   ]
  },
  {
   "cell_type": "code",
   "execution_count": null,
   "id": "1ddb71d8",
   "metadata": {},
   "outputs": [],
   "source": [
    "df.head(20)"
   ]
  }
 ],
 "metadata": {
  "kernelspec": {
   "display_name": "Python 3 (ipykernel)",
   "language": "python",
   "name": "python3"
  },
  "language_info": {
   "codemirror_mode": {
    "name": "ipython",
    "version": 3
   },
   "file_extension": ".py",
   "mimetype": "text/x-python",
   "name": "python",
   "nbconvert_exporter": "python",
   "pygments_lexer": "ipython3",
   "version": "3.9.13"
  }
 },
 "nbformat": 4,
 "nbformat_minor": 5
}
